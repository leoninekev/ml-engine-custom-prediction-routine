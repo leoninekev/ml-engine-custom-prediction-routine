{
  "nbformat": 4,
  "nbformat_minor": 0,
  "metadata": {
    "colab": {
      "name": "custom_prediciton_model_deployment_mlengine_Walkthrough.ipynb",
      "version": "0.3.2",
      "provenance": [],
      "collapsed_sections": [],
      "include_colab_link": true
    },
    "kernelspec": {
      "name": "python3",
      "display_name": "Python 3"
    },
    "accelerator": "TPU"
  },
  "cells": [
    {
      "cell_type": "markdown",
      "metadata": {
        "id": "view-in-github",
        "colab_type": "text"
      },
      "source": [
        "<a href=\"https://colab.research.google.com/github/leoninekev/ml-engine-custom-prediction-routine/blob/master/custom_prediciton_model_deployment_mlengine_Walkthrough.ipynb\" target=\"_parent\"><img src=\"https://colab.research.google.com/assets/colab-badge.svg\" alt=\"Open In Colab\"/></a>"
      ]
    },
    {
      "cell_type": "markdown",
      "metadata": {
        "id": "NhYHxegHfHaq",
        "colab_type": "text"
      },
      "source": [
        " ## Custom prediction routines "
      ]
    },
    {
      "cell_type": "markdown",
      "metadata": {
        "id": "GWqKXHk2hfdW",
        "colab_type": "text"
      },
      "source": [
        "**Model deployment task in google Ai-latform necessitates compliance, completion of following three sub-rotines:**\n",
        "* Upload of model artifacts to cloud storage bucket (Artifacts include - saved model/keras Model file, custom prediction, pre/post processing scripts, confi files)\n",
        "* Creation of ai-platform **Model Resource**.\n",
        "* Creation of ai-platform **Version Resource** (Specifying path to cloud storage holding Model & artifact package)"
      ]
    },
    {
      "cell_type": "markdown",
      "metadata": {
        "id": "wfG0jM-VfAnM",
        "colab_type": "text"
      },
      "source": [
        "###  Custom prediction routines determines, what code runs when an online prediction request to ai-platform is made.\n",
        "\n",
        "Deploying a custom prediction routine as **Version Resource** serves many utilities as follows:\n",
        "* It enables AI Platform to run a custom python code in response to each incoming request received for prediction/inferencing.\n",
        "* It allows preprocessing of input data before it is forwarded to a trained model for prediction.\n",
        "* It also allows postprocessing model's output prior to actual posting of prediction result, thus modifying output to suit any application's endpoints requirements."
      ]
    },
    {
      "cell_type": "code",
      "metadata": {
        "id": "w_c_F3AAdazg",
        "colab_type": "code",
        "colab": {}
      },
      "source": [
        "PROJECT_ID = \"nifty-episode-231612\" #@param {type:\"string\"}\n",
        "! gcloud config set project $PROJECT_ID"
      ],
      "execution_count": 0,
      "outputs": []
    },
    {
      "cell_type": "markdown",
      "metadata": {
        "id": "sXLnv5uHdgDW",
        "colab_type": "text"
      },
      "source": [
        ""
      ]
    },
    {
      "cell_type": "code",
      "metadata": {
        "id": "s7GtubewdfO3",
        "colab_type": "code",
        "colab": {}
      },
      "source": [
        "import sys\n",
        "\n",
        "if 'google.colab' in sys.modules:\n",
        "  from google.colab import auth as google_auth\n",
        "  google_auth.authenticate_user()\n",
        "\n",
        "# If you are running this notebook locally, replace the string below with the\n",
        "# path to your service account key and run this cell to authenticate your GCP\n",
        "# account.\n",
        "else:\n",
        "  %env GOOGLE_APPLICATION_CREDENTIALS ''\n"
      ],
      "execution_count": 0,
      "outputs": []
    },
    {
      "cell_type": "markdown",
      "metadata": {
        "id": "bmadMp0pdhC6",
        "colab_type": "text"
      },
      "source": [
        ""
      ]
    },
    {
      "cell_type": "code",
      "metadata": {
        "id": "BpDybFraCgfO",
        "colab_type": "code",
        "colab": {
          "base_uri": "https://localhost:8080/",
          "height": 119
        },
        "outputId": "af50f271-1dc2-4b3d-d955-769bf558f3af"
      },
      "source": [
        "!git clone https://github.com/leoninekev/ml-engine-custom-prediction-routine.git"
      ],
      "execution_count": 2,
      "outputs": [
        {
          "output_type": "stream",
          "text": [
            "Cloning into 'ml-engine-custom-prediction-routine'...\n",
            "remote: Enumerating objects: 28, done.\u001b[K\n",
            "remote: Counting objects: 100% (28/28), done.\u001b[K\n",
            "remote: Compressing objects: 100% (18/18), done.\u001b[K\n",
            "remote: Total 28 (delta 9), reused 24 (delta 9), pack-reused 0\u001b[K\n",
            "Unpacking objects: 100% (28/28), done.\n"
          ],
          "name": "stdout"
        }
      ]
    },
    {
      "cell_type": "code",
      "metadata": {
        "id": "FFfJEyYqdp0y",
        "colab_type": "code",
        "colab": {
          "base_uri": "https://localhost:8080/",
          "height": 102
        },
        "outputId": "636fd505-fe64-46c9-9887-4d0cd959272d"
      },
      "source": [
        "%cd ml-engine-custom-prediction-routine/\n",
        "! ls -pR"
      ],
      "execution_count": 4,
      "outputs": [
        {
          "output_type": "stream",
          "text": [
            "/content/ml-engine-custom-prediction-routine\n",
            ".:\n",
            "config.pickle\t\t    predictor.py  roi_helpers.py\n",
            "FixedBatchNormalization.py  README.md\t  RoiPoolingConv.py\n",
            "LICENSE\t\t\t    resnet.py\t  setup.py\n"
          ],
          "name": "stdout"
        }
      ]
    },
    {
      "cell_type": "code",
      "metadata": {
        "id": "FnwzC05ekvk6",
        "colab_type": "code",
        "colab": {
          "base_uri": "https://localhost:8080/",
          "height": 68
        },
        "outputId": "16e587e3-6c02-4194-c0a8-1ff09bb85405"
      },
      "source": [
        "!ls"
      ],
      "execution_count": 5,
      "outputs": [
        {
          "output_type": "stream",
          "text": [
            "config.pickle\t\t    predictor.py  roi_helpers.py\n",
            "FixedBatchNormalization.py  README.md\t  RoiPoolingConv.py\n",
            "LICENSE\t\t\t    resnet.py\t  setup.py\n"
          ],
          "name": "stdout"
        }
      ]
    },
    {
      "cell_type": "markdown",
      "metadata": {
        "id": "wnKBSxGLk5DN",
        "colab_type": "text"
      },
      "source": [
        "* View the setup file and edit the package name and version if needed."
      ]
    },
    {
      "cell_type": "code",
      "metadata": {
        "id": "FNrhnuZMk2Ae",
        "colab_type": "code",
        "colab": {}
      },
      "source": [
        "%pycat setup.py"
      ],
      "execution_count": 0,
      "outputs": []
    },
    {
      "cell_type": "markdown",
      "metadata": {
        "id": "V9aTN9uvebJF",
        "colab_type": "text"
      },
      "source": [
        "* Packaging the Predictor module and other files"
      ]
    },
    {
      "cell_type": "code",
      "metadata": {
        "id": "ii5z5Ms8d9dj",
        "colab_type": "code",
        "colab": {
          "base_uri": "https://localhost:8080/",
          "height": 612
        },
        "outputId": "e06a0480-a115-4145-c076-ccb5578f11c0"
      },
      "source": [
        "!python setup.py sdist --formats=gztar"
      ],
      "execution_count": 6,
      "outputs": [
        {
          "output_type": "stream",
          "text": [
            "running sdist\n",
            "running egg_info\n",
            "creating test_code.egg-info\n",
            "writing test_code.egg-info/PKG-INFO\n",
            "writing dependency_links to test_code.egg-info/dependency_links.txt\n",
            "writing requirements to test_code.egg-info/requires.txt\n",
            "writing top-level names to test_code.egg-info/top_level.txt\n",
            "writing manifest file 'test_code.egg-info/SOURCES.txt'\n",
            "writing manifest file 'test_code.egg-info/SOURCES.txt'\n",
            "running check\n",
            "warning: check: missing required meta-data: url\n",
            "\n",
            "warning: check: missing meta-data: either (author and author_email) or (maintainer and maintainer_email) must be supplied\n",
            "\n",
            "creating test_code-0.1\n",
            "creating test_code-0.1/test_code.egg-info\n",
            "copying files to test_code-0.1...\n",
            "copying FixedBatchNormalization.py -> test_code-0.1\n",
            "copying LICENSE -> test_code-0.1\n",
            "copying README.md -> test_code-0.1\n",
            "copying RoiPoolingConv.py -> test_code-0.1\n",
            "copying config.pickle -> test_code-0.1\n",
            "copying predictor.py -> test_code-0.1\n",
            "copying resnet.py -> test_code-0.1\n",
            "copying roi_helpers.py -> test_code-0.1\n",
            "copying setup.py -> test_code-0.1\n",
            "copying test_code.egg-info/PKG-INFO -> test_code-0.1/test_code.egg-info\n",
            "copying test_code.egg-info/SOURCES.txt -> test_code-0.1/test_code.egg-info\n",
            "copying test_code.egg-info/dependency_links.txt -> test_code-0.1/test_code.egg-info\n",
            "copying test_code.egg-info/requires.txt -> test_code-0.1/test_code.egg-info\n",
            "copying test_code.egg-info/top_level.txt -> test_code-0.1/test_code.egg-info\n",
            "Writing test_code-0.1/setup.cfg\n",
            "creating dist\n",
            "Creating tar archive\n",
            "removing 'test_code-0.1' (and everything under it)\n"
          ],
          "name": "stdout"
        }
      ]
    },
    {
      "cell_type": "markdown",
      "metadata": {
        "id": "awADehOHe7E-",
        "colab_type": "text"
      },
      "source": [
        "* Now the copy the packaged python modules or artifacts to the cloud storage bucket path where model weights files are stored."
      ]
    },
    {
      "cell_type": "code",
      "metadata": {
        "id": "2SE30I4clSAS",
        "colab_type": "code",
        "colab": {
          "base_uri": "https://localhost:8080/",
          "height": 68
        },
        "outputId": "1ae06437-08ca-4b09-cdd2-fb74da3544b4"
      },
      "source": [
        "!ls"
      ],
      "execution_count": 8,
      "outputs": [
        {
          "output_type": "stream",
          "text": [
            "config.pickle\t\t    LICENSE\t  resnet.py\t     setup.py\n",
            "dist\t\t\t    predictor.py  roi_helpers.py     test_code.egg-info\n",
            "FixedBatchNormalization.py  README.md\t  RoiPoolingConv.py\n"
          ],
          "name": "stdout"
        }
      ]
    }
  ]
}